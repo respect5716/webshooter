{
 "cells": [
  {
   "cell_type": "markdown",
   "id": "f19f02f3",
   "metadata": {},
   "source": [
    "## request"
   ]
  },
  {
   "cell_type": "code",
   "execution_count": 125,
   "id": "9d1282b7",
   "metadata": {},
   "outputs": [],
   "source": [
    "import time\n",
    "import logging\n",
    "import requests\n",
    "from bs4 import BeautifulSoup"
   ]
  },
  {
   "cell_type": "code",
   "execution_count": 2,
   "id": "d57043a5",
   "metadata": {},
   "outputs": [],
   "source": [
    "USER_AGENT = \"Mozilla/5.0 (Windows NT 10.0; Win64; x64) AppleWebKit/537.36 (KHTML, like Gecko) Chrome/70.0.3538.77 Safari/537.36\"\n",
    "HEADERS = {'User-Agent': USER_AGENT}"
   ]
  },
  {
   "cell_type": "code",
   "execution_count": 3,
   "id": "98e0597a",
   "metadata": {},
   "outputs": [],
   "source": [
    "def return_exception(return_type):\n",
    "    if return_type == 'json':\n",
    "        return {}\n",
    "    elif return_type == 'html':\n",
    "        return '<html></html>'\n",
    "    else:\n",
    "        return ''"
   ]
  },
  {
   "cell_type": "code",
   "execution_count": 4,
   "id": "e98d6d79",
   "metadata": {},
   "outputs": [],
   "source": [
    "def static_request(\n",
    "    url, \n",
    "    return_type = 'html', \n",
    "    headers = HEADERS, \n",
    "    proxies = [], \n",
    "    timeout = 5, \n",
    "    allow_redirects = True\n",
    "):\n",
    "\n",
    "    try:\n",
    "        kwargs = {\n",
    "            'headers': headers,\n",
    "            'proxies': proxies,\n",
    "            'timeout': timeout,\n",
    "            'allow_redirects': allow_redirects\n",
    "        }\n",
    "        \n",
    "        res = requests.get(url, **kwargs)\n",
    "        if return_type == 'json':\n",
    "            return res.json()\n",
    "        elif return_type == 'html':\n",
    "            return res.text\n",
    "        else:\n",
    "            return res\n",
    "    \n",
    "    except requests.exceptions.ReadTimeout:\n",
    "        logging.error(f'ReadTimeout | {url}')\n",
    "        time.sleep(3)\n",
    "        return return_exception(return_type)\n",
    "        \n",
    "    \n",
    "    except Exception as e:\n",
    "        error_message(e, url)\n",
    "        return return_exception(return_type)\n",
    "    \n",
    "    \n",
    "def url_to_soup(url):\n",
    "    html = static_request(url)\n",
    "    soup = BeautifulSoup(html)\n",
    "    return soup"
   ]
  },
  {
   "cell_type": "markdown",
   "id": "f7e8ee6a",
   "metadata": {},
   "source": [
    "## scraper"
   ]
  },
  {
   "cell_type": "code",
   "execution_count": 14,
   "id": "d5ab74fa",
   "metadata": {},
   "outputs": [],
   "source": [
    "import ray\n",
    "import warnings\n",
    "import pandas as pd\n",
    "from tqdm.auto import tqdm\n",
    "from selenium import webdriver\n",
    "\n",
    "from dataclasses import dataclass\n",
    "from typing import Optional, Callable, List, Dict, Any"
   ]
  },
  {
   "cell_type": "code",
   "execution_count": 11,
   "id": "952c3d67",
   "metadata": {},
   "outputs": [],
   "source": [
    "def make_list(var):\n",
    "    if type(var) != list:\n",
    "        var = [var]\n",
    "    return var\n",
    "\n",
    "def default_merge(infos):\n",
    "    return pd.DataFrame(infos)\n",
    "\n",
    "def default_postprocess(table):\n",
    "    return table"
   ]
  },
  {
   "cell_type": "code",
   "execution_count": 12,
   "id": "449d8def",
   "metadata": {},
   "outputs": [],
   "source": [
    "@dataclass\n",
    "class Func:\n",
    "    fn: Callable\n",
    "    multiprocess: bool\n",
    "        \n",
    "    def __call__(self, *args, **kwargs):\n",
    "        return self.fn(*args, **kwargs)\n",
    "    \n",
    "\n",
    "class AttributeDict(Dict):\n",
    "    def __getattr__(self, key: str) -> Optional[Any]:\n",
    "        return self[key]\n",
    "    \n",
    "    def __setattr__(self, key: str, val: Any) -> None:\n",
    "        self[key] = val"
   ]
  },
  {
   "cell_type": "code",
   "execution_count": 69,
   "id": "b4d34bc4",
   "metadata": {},
   "outputs": [],
   "source": [
    "class Scraper(object):\n",
    "    multiprocess_funcs = ['request', 'parse']    \n",
    "    \n",
    "    def __init__(self, progbar: bool):\n",
    "        self.progbar = progbar\n",
    "        self.reset_funcs()\n",
    "        self.reset_data()\n",
    "        self.reset_vars()\n",
    "        \n",
    "        \n",
    "    def reset_funcs(self):\n",
    "        self.funcs = {}\n",
    "        self.funcs['merge'] = Func(default_merge, False)\n",
    "        self.funcs['postprocess'] = Func(default_postprocess, False)\n",
    "    \n",
    "    \n",
    "    def reset_vars(self):\n",
    "        self.v = AttributeDict()\n",
    "    \n",
    "    \n",
    "    def reset_data(self):\n",
    "        self.urls = []\n",
    "        self.htmls = []\n",
    "        self.infos = []\n",
    "        self.table = None\n",
    "        self.data = None\n",
    "        \n",
    "    def set_vars(self, variables: Dict):\n",
    "        for k, v in variables.items():\n",
    "            self.v[k] = v\n",
    "        \n",
    "\n",
    "    def load_webdriver(self):\n",
    "        options = webdriver.ChromeOptions()\n",
    "        options.add_argument('--no-sandbox')\n",
    "        options.add_argument('--headless')\n",
    "        options.add_argument('--disable-dev-shm-usage')\n",
    "        self.driver = webdriver.Chrome(options=options)\n",
    "    \n",
    "    \n",
    "    @property\n",
    "    def multiprocess(self):\n",
    "        return any([self.funcs[f].multiprocess for f in self.multiprocess_funcs])\n",
    "    \n",
    "    \n",
    "    def register(self, method: str, multiprocess: bool = False) -> Callable:\n",
    "        if method not in self.multiprocess_funcs and multiprocess:\n",
    "            logging.warning(f'func {method} is does not use multiprocessing')\n",
    "        \n",
    "        def decorator(f: Callable) -> Callable:\n",
    "            self.funcs[method] = Func(f, multiprocess)\n",
    "            return f\n",
    "        return decorator\n",
    "    \n",
    "    \n",
    "    def validation(self):\n",
    "        required = ['browse', 'request', 'parse', 'merge', 'postprocess']\n",
    "        for req in required:\n",
    "            if req not in self.funcs.keys():\n",
    "                raise Exception(f'function {req} is not registered')\n",
    "        print('All functions are registered!')\n",
    "    \n",
    "    \n",
    "    def browse(self):\n",
    "        logging.info('Browsing started')\n",
    "        fn = self.funcs['browse']\n",
    "        self.urls = fn()\n",
    "        logging.info('Browsing finished')\n",
    "        \n",
    "        \n",
    "    def request(self):\n",
    "        logging.info('Requesting started')\n",
    "        fn = self.funcs['request']\n",
    "        if fn.multiprocess:\n",
    "            ray_fn = ray.remote(fn.fn)\n",
    "            objs = [ray_fn.remote(url) for url in self.urls]\n",
    "            objs = tqdm(objs, desc='request', display=self.progbar)\n",
    "            for obj in objs:\n",
    "                html = ray.get(obj)\n",
    "                html = make_list(html)\n",
    "                self.htmls += html\n",
    "        \n",
    "        else:\n",
    "            urls = tqdm(self.urls, desc='request', display=self.progbar)\n",
    "            for url in urls:\n",
    "                html = fn(url)\n",
    "                html = make_list(html)\n",
    "                self.htmls += html\n",
    "        logging.info('Requesting finished')\n",
    "            \n",
    "    \n",
    "    def parse(self):\n",
    "        logging.info('Parsing started')\n",
    "        fn = self.funcs['parse']\n",
    "        if fn.multiprocess:\n",
    "            ray_fn = ray.remote(fn.fn)\n",
    "            htmls = tqdm(self.htmls, desc='parse', display=self.progbar)\n",
    "            for html in htmls:\n",
    "                info = ray.get(ray_fn.remote(html))\n",
    "                info = make_list(info)\n",
    "                self.infos += info\n",
    "#             objs = [ray_fn.remote(html) for html in self.htmls]\n",
    "#             objs = tqdm(objs, desc='parse', display=self.progbar)\n",
    "#             for obj in objs:\n",
    "#                 info = ray.get(obj)\n",
    "#                 info = make_list(info)\n",
    "#                 self.infos += info\n",
    "        \n",
    "        else:\n",
    "            htmls = tqdm(self.htmls, desc='parse', display=self.progbar)\n",
    "            for html in htmls:\n",
    "                info = fn(html)\n",
    "                info = make_list(info)\n",
    "                self.infos += info\n",
    "        logging.info('Parsing finished')\n",
    "        \n",
    "    \n",
    "    def merge(self):\n",
    "        logging.info('Merging started')\n",
    "        self.table = self.funcs['merge'](self.infos)\n",
    "        logging.info('Merging finished')\n",
    "            \n",
    "            \n",
    "    def postprocess(self):\n",
    "        logging.info('Postprocessing started')\n",
    "        self.data = self.funcs['postprocess'](self.table)\n",
    "        logging.info('Postprocessing finished')\n",
    "    \n",
    "    \n",
    "    def run(self):\n",
    "        self.validation()\n",
    "        if self.multiprocess:\n",
    "            ray.init()\n",
    "        \n",
    "        \n",
    "        self.browse()\n",
    "        self.request()\n",
    "        self.parse()\n",
    "        self.merge()\n",
    "        self.postprocess()\n",
    "        \n",
    "        if self.multiprocess:\n",
    "            ray.shutdown()\n",
    "        return self.data\n",
    "    \n",
    "    @classmethod\n",
    "    def from_urls(cls, urls: List, progbar=True):\n",
    "        app = cls(progbar=progbar)\n",
    "        app.urls = urls\n",
    "        \n",
    "        @app.register('browse')\n",
    "        def browse():\n",
    "            return app.urls\n",
    "        \n",
    "        return app"
   ]
  },
  {
   "cell_type": "code",
   "execution_count": 70,
   "id": "930aa784",
   "metadata": {},
   "outputs": [],
   "source": [
    "class StaticScraper(Scraper):\n",
    "    def __init__(self, progbar: bool):\n",
    "        super().__init__(progbar)\n",
    "        self.funcs['request'] = Func(static_request, False)\n",
    "        \n",
    "    @classmethod\n",
    "    def from_urls(cls, urls: List, progbar=True):\n",
    "        app = cls(progbar=progbar)\n",
    "        app.urls = urls\n",
    "        \n",
    "        @app.register('browse')\n",
    "        def browse():\n",
    "            return app.urls\n",
    "        \n",
    "        return app    \n",
    "        \n",
    "class DynamicScraper(Scraper):\n",
    "    def __init__(self, progbar: bool):\n",
    "        super().__init__(progbar)\n",
    "        self.load_webdriver()\n",
    "        \n",
    "        \n",
    "    @classmethod\n",
    "    def from_urls(cls, urls: List, progbar=True):\n",
    "        app = cls(progbar=progbar)\n",
    "        app.urls = urls\n",
    "        \n",
    "        @app.register('browse')\n",
    "        def browse():\n",
    "            return app.urls\n",
    "        \n",
    "        return app"
   ]
  },
  {
   "cell_type": "markdown",
   "id": "8538acc4",
   "metadata": {},
   "source": [
    "## Test"
   ]
  },
  {
   "cell_type": "code",
   "execution_count": null,
   "id": "a5ef393c",
   "metadata": {},
   "outputs": [],
   "source": [
    "!pip install -q newspaper3k"
   ]
  },
  {
   "cell_type": "code",
   "execution_count": 22,
   "id": "e8ae7097",
   "metadata": {},
   "outputs": [],
   "source": [
    "from bs4 import BeautifulSoup\n",
    "from newspaper import Article"
   ]
  },
  {
   "cell_type": "code",
   "execution_count": 34,
   "id": "c68f1872",
   "metadata": {},
   "outputs": [],
   "source": [
    "app = StaticScraper(progbar = True)"
   ]
  },
  {
   "cell_type": "code",
   "execution_count": 35,
   "id": "876d7c25",
   "metadata": {},
   "outputs": [],
   "source": [
    "config = {\n",
    "    'date': '20211012',\n",
    "    'max_page': 10,\n",
    "    'categories': ['정치', '경제', '사회', '세계', '생활/문화', 'IT/과학'],\n",
    "    'category_to_id': {\n",
    "        '정치': '100',\n",
    "        '경제': '101',\n",
    "        '사회': '102',\n",
    "        '생활/문화': '103',\n",
    "        '세계': '104',\n",
    "        'IT/과학': '105',\n",
    "    }\n",
    "}"
   ]
  },
  {
   "cell_type": "code",
   "execution_count": 39,
   "id": "9d0aa490",
   "metadata": {},
   "outputs": [],
   "source": [
    "def get_page_url(category, date, page):\n",
    "    category_id = app.v.category_to_id[category]\n",
    "    url = f'https://news.naver.com/main/list.naver?mode=LSD&mid=sec&sid1={category_id}&listType=title&date={date}&page={page}'\n",
    "    return url\n",
    "\n",
    "def find_max_page(category):\n",
    "    page_url = get_page_url(category, app.v.date, 10000)\n",
    "    soup = url_to_soup(page_url)\n",
    "    max_page = soup.select('div.paging strong')[0].text\n",
    "    return min(app.v.max_page, int(max_page))\n",
    "\n",
    "@app.register('browse')\n",
    "def browse():\n",
    "    urls = []\n",
    "    for category in app.v.categories:\n",
    "        max_page = find_max_page(category)\n",
    "        urls += [get_page_url(category, app.v.date, p) for p in range(1, max_page+1)]\n",
    "    return urls\n",
    "\n",
    "@app.register('parse', multiprocess=False)\n",
    "def parse(html):\n",
    "    soup = BeautifulSoup(html, 'html.parser')\n",
    "    articles = soup.select('div.list_body ul.type02 a')\n",
    "    titles = [i.text for i in articles]\n",
    "    urls = [i.get('href') for i in articles]\n",
    "    authors = [i.text for i in soup.select('div.list_body ul.type02 span.writing')]\n",
    "    return [{'title': t, 'author': a, 'url':u} for t, a, u in zip(titles, authors, urls)]"
   ]
  },
  {
   "cell_type": "code",
   "execution_count": 40,
   "id": "5ddbe171",
   "metadata": {},
   "outputs": [
    {
     "name": "stdout",
     "output_type": "stream",
     "text": [
      "All functions are registered!\n",
      "Browsing started\n",
      "Browsing finished\n",
      "Requesting started\n"
     ]
    },
    {
     "data": {
      "application/vnd.jupyter.widget-view+json": {
       "model_id": "ed01c2f865954a85af8f55e61b1f47ac",
       "version_major": 2,
       "version_minor": 0
      },
      "text/plain": [
       "request:   0%|          | 0/60 [00:00<?, ?it/s]"
      ]
     },
     "metadata": {},
     "output_type": "display_data"
    },
    {
     "name": "stdout",
     "output_type": "stream",
     "text": [
      "Requesting finished\n",
      "Parsing started\n"
     ]
    },
    {
     "data": {
      "application/vnd.jupyter.widget-view+json": {
       "model_id": "ec104c6c6db84a9cab79d18c6a7da51b",
       "version_major": 2,
       "version_minor": 0
      },
      "text/plain": [
       "parse:   0%|          | 0/60 [00:00<?, ?it/s]"
      ]
     },
     "metadata": {},
     "output_type": "display_data"
    },
    {
     "name": "stdout",
     "output_type": "stream",
     "text": [
      "Parsing finished\n",
      "Merging started\n",
      "Merging finished\n",
      "Postprocessing started\n",
      "Postprocessing finished\n"
     ]
    }
   ],
   "source": [
    "data = app.run()"
   ]
  },
  {
   "cell_type": "code",
   "execution_count": 41,
   "id": "060da832",
   "metadata": {},
   "outputs": [
    {
     "data": {
      "text/plain": [
       "(3000, 3)"
      ]
     },
     "execution_count": 41,
     "metadata": {},
     "output_type": "execute_result"
    }
   ],
   "source": [
    "data.shape"
   ]
  },
  {
   "cell_type": "code",
   "execution_count": 42,
   "id": "b8fbc132",
   "metadata": {},
   "outputs": [],
   "source": [
    "data = data.sample(100)"
   ]
  },
  {
   "cell_type": "code",
   "execution_count": null,
   "id": "60c0343a",
   "metadata": {},
   "outputs": [],
   "source": []
  },
  {
   "cell_type": "code",
   "execution_count": 78,
   "id": "22069a8f",
   "metadata": {},
   "outputs": [],
   "source": [
    "article_scraper = StaticScraper.from_urls(data['url'].to_list(), progbar=True)"
   ]
  },
  {
   "cell_type": "code",
   "execution_count": 79,
   "id": "a4a571cd",
   "metadata": {},
   "outputs": [],
   "source": [
    "@article_scraper.register('parse', multiprocess=False)\n",
    "def parse(html):\n",
    "    article = Article('', language='ko', fetch_images=False)\n",
    "    article.download(html)\n",
    "    article.parse()\n",
    "    text = article.text\n",
    "    return {'text': text}"
   ]
  },
  {
   "cell_type": "code",
   "execution_count": 80,
   "id": "5a404344",
   "metadata": {},
   "outputs": [
    {
     "name": "stdout",
     "output_type": "stream",
     "text": [
      "All functions are registered!\n",
      "Browsing started\n",
      "Browsing finished\n",
      "Requesting started\n"
     ]
    },
    {
     "data": {
      "application/vnd.jupyter.widget-view+json": {
       "model_id": "26e92fe69f56444d8daad1925925314c",
       "version_major": 2,
       "version_minor": 0
      },
      "text/plain": [
       "request:   0%|          | 0/100 [00:00<?, ?it/s]"
      ]
     },
     "metadata": {},
     "output_type": "display_data"
    },
    {
     "name": "stdout",
     "output_type": "stream",
     "text": [
      "Requesting finished\n",
      "Parsing started\n"
     ]
    },
    {
     "data": {
      "application/vnd.jupyter.widget-view+json": {
       "model_id": "3ac36c1f2753475b844b8132b1ba25ab",
       "version_major": 2,
       "version_minor": 0
      },
      "text/plain": [
       "parse:   0%|          | 0/100 [00:00<?, ?it/s]"
      ]
     },
     "metadata": {},
     "output_type": "display_data"
    },
    {
     "name": "stdout",
     "output_type": "stream",
     "text": [
      "Parsing finished\n",
      "Merging started\n",
      "Merging finished\n",
      "Postprocessing started\n",
      "Postprocessing finished\n"
     ]
    }
   ],
   "source": [
    "articles = article_scraper.run()"
   ]
  },
  {
   "cell_type": "code",
   "execution_count": 81,
   "id": "aecce48e",
   "metadata": {},
   "outputs": [
    {
     "data": {
      "text/plain": [
       "False"
      ]
     },
     "execution_count": 81,
     "metadata": {},
     "output_type": "execute_result"
    }
   ],
   "source": [
    "article_scraper.multiprocess"
   ]
  },
  {
   "cell_type": "code",
   "execution_count": 74,
   "id": "db1d698d",
   "metadata": {},
   "outputs": [],
   "source": [
    "ray.shutdown()"
   ]
  },
  {
   "cell_type": "code",
   "execution_count": 60,
   "id": "aafc9961",
   "metadata": {},
   "outputs": [
    {
     "data": {
      "text/plain": [
       "100"
      ]
     },
     "execution_count": 60,
     "metadata": {},
     "output_type": "execute_result"
    }
   ],
   "source": [
    "len(articles)"
   ]
  },
  {
   "cell_type": "code",
   "execution_count": 63,
   "id": "ac60c02f",
   "metadata": {},
   "outputs": [
    {
     "data": {
      "text/html": [
       "<div>\n",
       "<style scoped>\n",
       "    .dataframe tbody tr th:only-of-type {\n",
       "        vertical-align: middle;\n",
       "    }\n",
       "\n",
       "    .dataframe tbody tr th {\n",
       "        vertical-align: top;\n",
       "    }\n",
       "\n",
       "    .dataframe thead th {\n",
       "        text-align: right;\n",
       "    }\n",
       "</style>\n",
       "<table border=\"1\" class=\"dataframe\">\n",
       "  <thead>\n",
       "    <tr style=\"text-align: right;\">\n",
       "      <th></th>\n",
       "      <th>title</th>\n",
       "      <th>author</th>\n",
       "      <th>url</th>\n",
       "      <th>text</th>\n",
       "    </tr>\n",
       "  </thead>\n",
       "  <tbody>\n",
       "    <tr>\n",
       "      <th>0</th>\n",
       "      <td>'한 명이 다섯 번 당하기도'...끊이지 않는 전화금융사기</td>\n",
       "      <td>YTN</td>\n",
       "      <td>https://news.naver.com/main/read.naver?mode=LS...</td>\n",
       "      <td>동영상 뉴스\\n\\n[앵커]전화금융사기가 근절되지 않고 기승을 부리고 있습니다.대출금...</td>\n",
       "    </tr>\n",
       "    <tr>\n",
       "      <th>1</th>\n",
       "      <td>영월중·봉래중 통폐합 추진…위치·교명 갈등</td>\n",
       "      <td>KBS</td>\n",
       "      <td>https://news.naver.com/main/read.naver?mode=LS...</td>\n",
       "      <td>[KBS 춘천] [앵커]폐광지인 영월에선 인구 감소로 인해 학생 수도 급감하고 있습...</td>\n",
       "    </tr>\n",
       "    <tr>\n",
       "      <th>2</th>\n",
       "      <td>민홍철 의원 \"도산안창호함 훈련장비 도입 예정보다 2년 가까이 늦어져\"</td>\n",
       "      <td>YTN</td>\n",
       "      <td>https://news.naver.com/main/read.naver?mode=LS...</td>\n",
       "      <td>잠수함발사탄도미사일, SLBM을 탑재한 해군의 첫 3천 톤급 잠수함인 도산안창호함의...</td>\n",
       "    </tr>\n",
       "    <tr>\n",
       "      <th>3</th>\n",
       "      <td>김종인에 `신당창당` 조언 구한 김동연</td>\n",
       "      <td>디지털타임스</td>\n",
       "      <td>https://news.naver.com/main/read.naver?mode=LS...</td>\n",
       "      <td>무소속으로 대선 출마를 선언한 김동연(왼쪽) 전 경제부총리가 12일 서울 중구 한 ...</td>\n",
       "    </tr>\n",
       "    <tr>\n",
       "      <th>4</th>\n",
       "      <td>IMF, 한국 경제성장률 4.3% 예측…7월 전망치 유지</td>\n",
       "      <td>데일리안</td>\n",
       "      <td>https://news.naver.com/main/read.naver?mode=LS...</td>\n",
       "      <td>IMF가 12일(현지시간) 발표한 세계 경제성장률 전망 변동 추이. ⓒ기획재정부 I...</td>\n",
       "    </tr>\n",
       "    <tr>\n",
       "      <th>...</th>\n",
       "      <td>...</td>\n",
       "      <td>...</td>\n",
       "      <td>...</td>\n",
       "      <td>...</td>\n",
       "    </tr>\n",
       "    <tr>\n",
       "      <th>95</th>\n",
       "      <td>토스뱅크, 나흘째 신규가입 중단…대기자만 121만명</td>\n",
       "      <td>조선비즈</td>\n",
       "      <td>https://news.naver.com/main/read.naver?mode=LS...</td>\n",
       "      <td>서울 강남구 토스뱅크 본사. /연합뉴스 서울 강남구 토스뱅크 본사. /연합뉴스\\n\\...</td>\n",
       "    </tr>\n",
       "    <tr>\n",
       "      <th>96</th>\n",
       "      <td>ITALY G20 AFGHANISTAN CRISIS</td>\n",
       "      <td>EPA연합뉴스</td>\n",
       "      <td>https://news.naver.com/main/read.naver?mode=LS...</td>\n",
       "      <td>기사 섹션 분류 안내\\n\\n기사의 섹션 정보는 해당 언론사의 분류를 따르고 있습니다...</td>\n",
       "    </tr>\n",
       "    <tr>\n",
       "      <th>97</th>\n",
       "      <td>스마트폰 보고 졸고… 최저임금위원장 불성실한 태도 국감 도마위</td>\n",
       "      <td>뉴스1</td>\n",
       "      <td>https://news.naver.com/main/read.naver?mode=LS...</td>\n",
       "      <td>12일 서울 여의도 국회에서 열린 환경노동위원회의 경제사회노동위원회·중앙노동위원회·...</td>\n",
       "    </tr>\n",
       "    <tr>\n",
       "      <th>98</th>\n",
       "      <td>국고채 금리 일제히 상승...3년물 연 1.815%</td>\n",
       "      <td>YTN</td>\n",
       "      <td>https://news.naver.com/main/read.naver?mode=LS...</td>\n",
       "      <td>국고채 금리가 일제히 상승했습니다.\\n\\n\\n\\n오늘(12일) 서울 채권시장에서 3...</td>\n",
       "    </tr>\n",
       "    <tr>\n",
       "      <th>99</th>\n",
       "      <td>유승민, 민주당·이재명 싸잡아 직격 “몰염치의 끝은 어디인가…어떻게 이렇게까지”</td>\n",
       "      <td>디지털타임스</td>\n",
       "      <td>https://news.naver.com/main/read.naver?mode=LS...</td>\n",
       "      <td>이재명(왼쪽) 경기도지사와 유승민 전 국회의원. 유승민 캠프 제공, 연합뉴스 이재명...</td>\n",
       "    </tr>\n",
       "  </tbody>\n",
       "</table>\n",
       "<p>100 rows × 4 columns</p>\n",
       "</div>"
      ],
      "text/plain": [
       "                                           title   author  \\\n",
       "0               '한 명이 다섯 번 당하기도'...끊이지 않는 전화금융사기      YTN   \n",
       "1                        영월중·봉래중 통폐합 추진…위치·교명 갈등      KBS   \n",
       "2        민홍철 의원 \"도산안창호함 훈련장비 도입 예정보다 2년 가까이 늦어져\"      YTN   \n",
       "3                          김종인에 `신당창당` 조언 구한 김동연   디지털타임스   \n",
       "4                IMF, 한국 경제성장률 4.3% 예측…7월 전망치 유지     데일리안   \n",
       "..                                           ...      ...   \n",
       "95                  토스뱅크, 나흘째 신규가입 중단…대기자만 121만명     조선비즈   \n",
       "96                  ITALY G20 AFGHANISTAN CRISIS  EPA연합뉴스   \n",
       "97            스마트폰 보고 졸고… 최저임금위원장 불성실한 태도 국감 도마위      뉴스1   \n",
       "98                  국고채 금리 일제히 상승...3년물 연 1.815%      YTN   \n",
       "99  유승민, 민주당·이재명 싸잡아 직격 “몰염치의 끝은 어디인가…어떻게 이렇게까지”   디지털타임스   \n",
       "\n",
       "                                                  url  \\\n",
       "0   https://news.naver.com/main/read.naver?mode=LS...   \n",
       "1   https://news.naver.com/main/read.naver?mode=LS...   \n",
       "2   https://news.naver.com/main/read.naver?mode=LS...   \n",
       "3   https://news.naver.com/main/read.naver?mode=LS...   \n",
       "4   https://news.naver.com/main/read.naver?mode=LS...   \n",
       "..                                                ...   \n",
       "95  https://news.naver.com/main/read.naver?mode=LS...   \n",
       "96  https://news.naver.com/main/read.naver?mode=LS...   \n",
       "97  https://news.naver.com/main/read.naver?mode=LS...   \n",
       "98  https://news.naver.com/main/read.naver?mode=LS...   \n",
       "99  https://news.naver.com/main/read.naver?mode=LS...   \n",
       "\n",
       "                                                 text  \n",
       "0   동영상 뉴스\\n\\n[앵커]전화금융사기가 근절되지 않고 기승을 부리고 있습니다.대출금...  \n",
       "1   [KBS 춘천] [앵커]폐광지인 영월에선 인구 감소로 인해 학생 수도 급감하고 있습...  \n",
       "2   잠수함발사탄도미사일, SLBM을 탑재한 해군의 첫 3천 톤급 잠수함인 도산안창호함의...  \n",
       "3   무소속으로 대선 출마를 선언한 김동연(왼쪽) 전 경제부총리가 12일 서울 중구 한 ...  \n",
       "4   IMF가 12일(현지시간) 발표한 세계 경제성장률 전망 변동 추이. ⓒ기획재정부 I...  \n",
       "..                                                ...  \n",
       "95  서울 강남구 토스뱅크 본사. /연합뉴스 서울 강남구 토스뱅크 본사. /연합뉴스\\n\\...  \n",
       "96  기사 섹션 분류 안내\\n\\n기사의 섹션 정보는 해당 언론사의 분류를 따르고 있습니다...  \n",
       "97  12일 서울 여의도 국회에서 열린 환경노동위원회의 경제사회노동위원회·중앙노동위원회·...  \n",
       "98  국고채 금리가 일제히 상승했습니다.\\n\\n\\n\\n오늘(12일) 서울 채권시장에서 3...  \n",
       "99  이재명(왼쪽) 경기도지사와 유승민 전 국회의원. 유승민 캠프 제공, 연합뉴스 이재명...  \n",
       "\n",
       "[100 rows x 4 columns]"
      ]
     },
     "execution_count": 63,
     "metadata": {},
     "output_type": "execute_result"
    }
   ],
   "source": [
    "pd.concat([data.reset_index(drop=True), articles], axis=1)"
   ]
  },
  {
   "cell_type": "code",
   "execution_count": null,
   "id": "e66b88a3",
   "metadata": {},
   "outputs": [],
   "source": []
  }
 ],
 "metadata": {
  "kernelspec": {
   "display_name": "Python 3 (ipykernel)",
   "language": "python",
   "name": "python3"
  },
  "language_info": {
   "codemirror_mode": {
    "name": "ipython",
    "version": 3
   },
   "file_extension": ".py",
   "mimetype": "text/x-python",
   "name": "python",
   "nbconvert_exporter": "python",
   "pygments_lexer": "ipython3",
   "version": "3.7.12"
  }
 },
 "nbformat": 4,
 "nbformat_minor": 5
}
