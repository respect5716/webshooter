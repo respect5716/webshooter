{
 "cells": [
  {
   "cell_type": "markdown",
   "id": "11ef54ce",
   "metadata": {},
   "source": [
    "# Crawler"
   ]
  },
  {
   "cell_type": "markdown",
   "id": "427434ac",
   "metadata": {},
   "source": [
    "## Code"
   ]
  },
  {
   "cell_type": "markdown",
   "id": "5b0921d0",
   "metadata": {},
   "source": [
    "### const"
   ]
  },
  {
   "cell_type": "code",
   "execution_count": 2,
   "id": "121b2b7d",
   "metadata": {},
   "outputs": [],
   "source": [
    "USER_AGENT = \"Mozilla/5.0 (Windows NT 10.0; Win64; x64) AppleWebKit/537.36 (KHTML, like Gecko) Chrome/70.0.3538.77 Safari/537.36\"\n",
    "HEADERS = {'User-Agent': USER_AGENT}"
   ]
  },
  {
   "cell_type": "markdown",
   "id": "31b665ce",
   "metadata": {},
   "source": [
    "### utils"
   ]
  },
  {
   "cell_type": "code",
   "execution_count": 3,
   "id": "61af1edc",
   "metadata": {},
   "outputs": [],
   "source": [
    "import requests\n",
    "from selenium import webdriver"
   ]
  },
  {
   "cell_type": "code",
   "execution_count": 4,
   "id": "a0c9d375",
   "metadata": {},
   "outputs": [],
   "source": [
    "def load_webdriver():\n",
    "    options = webdriver.ChromeOptions()\n",
    "    options.add_argument('--no-sandbox')\n",
    "    options.add_argument('--headless')\n",
    "    options.add_argument('--disable-dev-shm-usage')\n",
    "    driver = webdriver.Chrome(options=options)\n",
    "    return driver\n",
    "\n",
    "def error_message(error_type, url):\n",
    "    print(f'ERROR | {error_type} | {url}')\n",
    "    \n",
    "def return_exception(return_type):\n",
    "    if return_type == 'json':\n",
    "        return {}\n",
    "    elif return_type == 'html':\n",
    "        return '<html></html>'\n",
    "    else:\n",
    "        return ''"
   ]
  },
  {
   "cell_type": "markdown",
   "id": "7a4fcb96",
   "metadata": {},
   "source": [
    "### request"
   ]
  },
  {
   "cell_type": "code",
   "execution_count": 5,
   "id": "6840192f",
   "metadata": {},
   "outputs": [],
   "source": [
    "import time\n",
    "import requests\n",
    "from bs4 import BeautifulSoup"
   ]
  },
  {
   "cell_type": "code",
   "execution_count": 7,
   "id": "8d8903eb",
   "metadata": {},
   "outputs": [],
   "source": [
    "def static_request(\n",
    "    url, \n",
    "    return_type = 'html', \n",
    "    headers = HEADERS, \n",
    "    proxies = [], \n",
    "    timeout = 5, \n",
    "    allow_redirects = True\n",
    "):\n",
    "\n",
    "    try:\n",
    "        kwargs = {\n",
    "            'headers': headers,\n",
    "            'proxies': proxies,\n",
    "            'timeout': timeout,\n",
    "            'allow_redirects': allow_redirects\n",
    "        }\n",
    "        \n",
    "        res = requests.get(url, **kwargs)\n",
    "        if return_type == 'json':\n",
    "            return res.json()\n",
    "        elif return_type == 'html':\n",
    "            return res.text\n",
    "        else:\n",
    "            return res\n",
    "    \n",
    "    except requests.exceptions.ReadTimeout:\n",
    "        error_message('ReadTimeout', url)\n",
    "        time.sleep(3)\n",
    "        return return_exception(return_type)\n",
    "        \n",
    "    \n",
    "    except Exception as e:\n",
    "        error_message(e, url)\n",
    "        return return_exception(return_type)\n",
    "\n",
    "\n",
    "def dynamic_request(url, driver):\n",
    "    driver.get(url)\n",
    "    return driver.page_source\n",
    "\n",
    "def url_to_soup(url):\n",
    "    html = static_request(url)\n",
    "    soup = BeautifulSoup(html)\n",
    "    return soup"
   ]
  },
  {
   "cell_type": "markdown",
   "id": "ed359665",
   "metadata": {},
   "source": [
    "### crawler"
   ]
  },
  {
   "cell_type": "code",
   "execution_count": 11,
   "id": "c3ca1abf",
   "metadata": {},
   "outputs": [],
   "source": [
    "import ray\n",
    "import pandas as pd\n",
    "from tqdm.auto import tqdm\n",
    "from typing import Union, Optional, List, Dict"
   ]
  },
  {
   "cell_type": "code",
   "execution_count": 51,
   "id": "f4c4d429",
   "metadata": {},
   "outputs": [],
   "source": [
    "class Crawler(object):\n",
    "    def __init__(\n",
    "        self,\n",
    "        use_ray: bool,\n",
    "        use_tqdm: bool = True,\n",
    "        url_column: Optional[str] = None\n",
    "    ):\n",
    "        \n",
    "        self.use_ray = use_ray\n",
    "        self.use_tqdm = use_tqdm\n",
    "        self.url_column = url_column\n",
    "        \n",
    "    \n",
    "    def browse(self) -> List[str]:\n",
    "        raise NotImplementedError\n",
    "\n",
    "        \n",
    "    def request(self, url: str) -> str:\n",
    "        raise NotImplementedError\n",
    "    \n",
    "    \n",
    "    def parse(self, html) -> Union[List[Dict], Dict]:\n",
    "        raise NotImplementedError\n",
    "\n",
    "        \n",
    "    def merge(self, data, urls):\n",
    "        if type(data[0]) == list:\n",
    "            data = [pd.DataFrame(d) for d in data]\n",
    "            if self.url_column:\n",
    "                for d, u in zip(data, urls):\n",
    "                    d[self.url_column] = u\n",
    "            data = pd.concat(data, ignore_index=True)\n",
    "        \n",
    "        else:\n",
    "            data = pd.DataFrame(data)      \n",
    "            if self.url_column:\n",
    "                data[self.url_column] = urls\n",
    "        \n",
    "        return data\n",
    "\n",
    "    \n",
    "    def postprocess(self, data):\n",
    "        return data\n",
    "\n",
    "    \n",
    "    def crawl(self):\n",
    "        urls = self.browse()\n",
    "        \n",
    "        htmls = []\n",
    "        urls = tqdm(urls, desc='request') if self.use_tqdm else urls\n",
    "        for url in urls:\n",
    "            htmls.append(self.request(url))\n",
    "            \n",
    "        data = []\n",
    "        if self.use_ray:\n",
    "            ray.init()\n",
    "            parse_fn = ray.remote(lambda x: self.parse(x))\n",
    "            objs = [parse_fn.remote(html) for html in htmls]\n",
    "            objs = tqdm(objs, desc='parse') if self.use_tqdm else objs\n",
    "            for obj in objs:\n",
    "                data.append(ray.get(obj))\n",
    "            ray.shutdown()\n",
    "        \n",
    "        else:\n",
    "            htmls = tqdm(htmls, desc='parse') if self.use_tqdm else htmls\n",
    "            for html in htmls:\n",
    "                data.append(self.parse(html))\n",
    "            \n",
    "        data = self.merge(data, urls)\n",
    "        data = self.postprocess(data)\n",
    "        return data\n",
    "    \n",
    "    \n",
    "class StaticCrawler(Crawler):\n",
    "    def request(self, url):\n",
    "        return static_request(url)\n",
    "    \n",
    "    \n",
    "class DynamicCrawler(Crawler):\n",
    "    def __init__(self, use_ray, use_tqdm=True, url_column=None):\n",
    "        super().__init__(use_ray, use_tqdm, url_column)\n",
    "        self.driver = load_webdriver()\n",
    "        \n",
    "    def request(self, url):\n",
    "        return dynamic_request(url, self.driver)"
   ]
  },
  {
   "cell_type": "markdown",
   "id": "790caaef",
   "metadata": {},
   "source": [
    "## Test 1\n",
    "* Static Crawler\n",
    "* Naver News"
   ]
  },
  {
   "cell_type": "code",
   "execution_count": 13,
   "id": "fbd938c9",
   "metadata": {},
   "outputs": [
    {
     "name": "stdout",
     "output_type": "stream",
     "text": [
      "\u001b[33mWARNING: Running pip as the 'root' user can result in broken permissions and conflicting behaviour with the system package manager. It is recommended to use a virtual environment instead: https://pip.pypa.io/warnings/venv\u001b[0m\r\n"
     ]
    }
   ],
   "source": [
    "!pip install -q newspaper3k"
   ]
  },
  {
   "cell_type": "code",
   "execution_count": 35,
   "id": "1487a6e3",
   "metadata": {},
   "outputs": [],
   "source": [
    "import pandas as pd\n",
    "\n",
    "from bs4 import BeautifulSoup\n",
    "from newspaper import Article"
   ]
  },
  {
   "cell_type": "code",
   "execution_count": 36,
   "id": "754c84f6",
   "metadata": {},
   "outputs": [],
   "source": [
    "CATEGORIES = ['정치', '경제', '사회', '세계', '생활/문화', 'IT/과학']\n",
    "CATEGORY_TO_ID = {\n",
    "    '정치': '100',\n",
    "    '경제': '101',\n",
    "    '사회': '102',\n",
    "    '생활/문화': '103',\n",
    "    '세계': '104',\n",
    "    'IT/과학': '105',\n",
    "}"
   ]
  },
  {
   "cell_type": "code",
   "execution_count": 42,
   "id": "e6ed97d6",
   "metadata": {},
   "outputs": [],
   "source": [
    "date = '20211005'\n",
    "max_page = 1"
   ]
  },
  {
   "cell_type": "code",
   "execution_count": 43,
   "id": "51a91eb5",
   "metadata": {},
   "outputs": [],
   "source": [
    "class ListCrawler(StaticCrawler):\n",
    "    def __init__(self, date, max_page, use_ray):\n",
    "        super().__init__(use_ray)\n",
    "        self.date = date\n",
    "        self.max_page = max_page\n",
    "    \n",
    "    \n",
    "    def get_page_url(self, category, page):\n",
    "        category_id = CATEGORY_TO_ID[category]\n",
    "        url = f'https://news.naver.com/main/list.naver?mode=LSD&mid=sec&sid1={category_id}&listType=title&date={self.date}&page={page}'\n",
    "        return url\n",
    "\n",
    "    def find_max_page(self, category):\n",
    "        page_url = self.get_page_url(category, 10000)\n",
    "        soup = url_to_soup(page_url)\n",
    "        max_page = soup.select('div.paging strong')[0].text\n",
    "        return min(self.max_page, int(max_page))\n",
    "\n",
    "    def browse(self):\n",
    "        urls = []\n",
    "        for category in CATEGORIES:\n",
    "            max_page = self.find_max_page(category)\n",
    "            urls += [self.get_page_url(category, p) for p in range(1, max_page+1)]\n",
    "        return urls\n",
    "\n",
    "    def parse(self, html):\n",
    "        soup = BeautifulSoup(html, 'html.parser')\n",
    "        articles = soup.select('div.list_body ul.type02 a')\n",
    "        titles = [i.text for i in articles]\n",
    "        urls = [i.get('href') for i in articles]\n",
    "        authors = [i.text for i in soup.select('div.list_body ul.type02 span.writing')]\n",
    "        return [{'title': t, 'author': a, 'url':u} for t, a, u in zip(titles, authors, urls)]"
   ]
  },
  {
   "cell_type": "code",
   "execution_count": 46,
   "id": "751ec98a",
   "metadata": {},
   "outputs": [
    {
     "data": {
      "application/vnd.jupyter.widget-view+json": {
       "model_id": "46ebced753b643e493afbd7cefaf2b6e",
       "version_major": 2,
       "version_minor": 0
      },
      "text/plain": [
       "request:   0%|          | 0/6 [00:00<?, ?it/s]"
      ]
     },
     "metadata": {},
     "output_type": "display_data"
    },
    {
     "name": "stderr",
     "output_type": "stream",
     "text": [
      "2021-10-08 11:51:06,544\tWARNING services.py:1739 -- WARNING: The object store is using /tmp instead of /dev/shm because /dev/shm has only 67104768 bytes available. This will harm performance! You may be able to free up space by deleting files in /dev/shm. If you are inside a Docker container, you can increase /dev/shm size by passing '--shm-size=0.47gb' to 'docker run' (or add it to the run_options list in a Ray cluster config). Make sure to set this to more than 30% of available RAM.\n"
     ]
    },
    {
     "data": {
      "application/vnd.jupyter.widget-view+json": {
       "model_id": "31eb9223cc7241e595df87152f04e860",
       "version_major": 2,
       "version_minor": 0
      },
      "text/plain": [
       "parse:   0%|          | 0/6 [00:00<?, ?it/s]"
      ]
     },
     "metadata": {},
     "output_type": "display_data"
    },
    {
     "data": {
      "text/html": [
       "<div>\n",
       "<style scoped>\n",
       "    .dataframe tbody tr th:only-of-type {\n",
       "        vertical-align: middle;\n",
       "    }\n",
       "\n",
       "    .dataframe tbody tr th {\n",
       "        vertical-align: top;\n",
       "    }\n",
       "\n",
       "    .dataframe thead th {\n",
       "        text-align: right;\n",
       "    }\n",
       "</style>\n",
       "<table border=\"1\" class=\"dataframe\">\n",
       "  <thead>\n",
       "    <tr style=\"text-align: right;\">\n",
       "      <th></th>\n",
       "      <th>title</th>\n",
       "      <th>author</th>\n",
       "      <th>url</th>\n",
       "    </tr>\n",
       "  </thead>\n",
       "  <tbody>\n",
       "    <tr>\n",
       "      <th>0</th>\n",
       "      <td>홍남기 “11월 가스요금 동결합니다”</td>\n",
       "      <td>서울경제</td>\n",
       "      <td>https://news.naver.com/main/read.naver?mode=LS...</td>\n",
       "    </tr>\n",
       "    <tr>\n",
       "      <th>1</th>\n",
       "      <td>\"文경제 학사경고 수준\"…부총리에 몰아친 '부동산 포화'(종합)</td>\n",
       "      <td>뉴스1</td>\n",
       "      <td>https://news.naver.com/main/read.naver?mode=LS...</td>\n",
       "    </tr>\n",
       "    <tr>\n",
       "      <th>2</th>\n",
       "      <td>이재명, 2004년 음주운전 당시 혈중알코올 0.158%…면허취소 수준</td>\n",
       "      <td>KBS</td>\n",
       "      <td>https://news.naver.com/main/read.naver?mode=LS...</td>\n",
       "    </tr>\n",
       "    <tr>\n",
       "      <th>3</th>\n",
       "      <td>\"화천대유했나\" vs \"윤석열 장모는?\"…기재위에 '대장동 유탄'</td>\n",
       "      <td>머니투데이</td>\n",
       "      <td>https://news.naver.com/main/read.naver?mode=LS...</td>\n",
       "    </tr>\n",
       "    <tr>\n",
       "      <th>4</th>\n",
       "      <td>박범계 \"고발사주, 중대 사건…공수처 이첩 아닌 이송이라 썼다\"(종합)</td>\n",
       "      <td>뉴스1</td>\n",
       "      <td>https://news.naver.com/main/read.naver?mode=LS...</td>\n",
       "    </tr>\n",
       "  </tbody>\n",
       "</table>\n",
       "</div>"
      ],
      "text/plain": [
       "                                     title author  \\\n",
       "0                     홍남기 “11월 가스요금 동결합니다”   서울경제   \n",
       "1      \"文경제 학사경고 수준\"…부총리에 몰아친 '부동산 포화'(종합)    뉴스1   \n",
       "2  이재명, 2004년 음주운전 당시 혈중알코올 0.158%…면허취소 수준    KBS   \n",
       "3     \"화천대유했나\" vs \"윤석열 장모는?\"…기재위에 '대장동 유탄'  머니투데이   \n",
       "4  박범계 \"고발사주, 중대 사건…공수처 이첩 아닌 이송이라 썼다\"(종합)    뉴스1   \n",
       "\n",
       "                                                 url  \n",
       "0  https://news.naver.com/main/read.naver?mode=LS...  \n",
       "1  https://news.naver.com/main/read.naver?mode=LS...  \n",
       "2  https://news.naver.com/main/read.naver?mode=LS...  \n",
       "3  https://news.naver.com/main/read.naver?mode=LS...  \n",
       "4  https://news.naver.com/main/read.naver?mode=LS...  "
      ]
     },
     "execution_count": 46,
     "metadata": {},
     "output_type": "execute_result"
    }
   ],
   "source": [
    "list_crawler = ListCrawler(date, max_page, use_ray=True)\n",
    "meta = list_crawler.crawl()\n",
    "meta.head()"
   ]
  },
  {
   "cell_type": "code",
   "execution_count": 48,
   "id": "86dd1c70",
   "metadata": {},
   "outputs": [],
   "source": [
    "class ArticleCrawler(StaticCrawler):\n",
    "    def __init__(self, meta, use_ray):\n",
    "        super().__init__(use_ray)\n",
    "        self.meta = meta\n",
    "    \n",
    "    def browse(self):\n",
    "        return self.meta['url'].to_list()\n",
    "    \n",
    "    def parse(self, html):\n",
    "        article = Article('', language='ko', fetch_images=False)\n",
    "        article.download(html)\n",
    "        article.parse()\n",
    "        text = article.text\n",
    "        return {'text': text}\n",
    "\n",
    "    def postprocess(self, data):\n",
    "        data = pd.concat([meta, data], axis=1)\n",
    "        return data"
   ]
  },
  {
   "cell_type": "code",
   "execution_count": 50,
   "id": "2738f591",
   "metadata": {},
   "outputs": [
    {
     "data": {
      "application/vnd.jupyter.widget-view+json": {
       "model_id": "06b8973db3a04fb392c6c9e06c98ade1",
       "version_major": 2,
       "version_minor": 0
      },
      "text/plain": [
       "request:   0%|          | 0/300 [00:00<?, ?it/s]"
      ]
     },
     "metadata": {},
     "output_type": "display_data"
    },
    {
     "name": "stderr",
     "output_type": "stream",
     "text": [
      "2021-10-08 11:56:45,498\tWARNING services.py:1739 -- WARNING: The object store is using /tmp instead of /dev/shm because /dev/shm has only 67104768 bytes available. This will harm performance! You may be able to free up space by deleting files in /dev/shm. If you are inside a Docker container, you can increase /dev/shm size by passing '--shm-size=0.39gb' to 'docker run' (or add it to the run_options list in a Ray cluster config). Make sure to set this to more than 30% of available RAM.\n"
     ]
    },
    {
     "data": {
      "application/vnd.jupyter.widget-view+json": {
       "model_id": "d910eb570ad548b1977e8b0977dbbb94",
       "version_major": 2,
       "version_minor": 0
      },
      "text/plain": [
       "parse:   0%|          | 0/300 [00:00<?, ?it/s]"
      ]
     },
     "metadata": {},
     "output_type": "display_data"
    },
    {
     "data": {
      "text/html": [
       "<div>\n",
       "<style scoped>\n",
       "    .dataframe tbody tr th:only-of-type {\n",
       "        vertical-align: middle;\n",
       "    }\n",
       "\n",
       "    .dataframe tbody tr th {\n",
       "        vertical-align: top;\n",
       "    }\n",
       "\n",
       "    .dataframe thead th {\n",
       "        text-align: right;\n",
       "    }\n",
       "</style>\n",
       "<table border=\"1\" class=\"dataframe\">\n",
       "  <thead>\n",
       "    <tr style=\"text-align: right;\">\n",
       "      <th></th>\n",
       "      <th>title</th>\n",
       "      <th>author</th>\n",
       "      <th>url</th>\n",
       "      <th>text</th>\n",
       "    </tr>\n",
       "  </thead>\n",
       "  <tbody>\n",
       "    <tr>\n",
       "      <th>0</th>\n",
       "      <td>홍남기 “11월 가스요금 동결합니다”</td>\n",
       "      <td>서울경제</td>\n",
       "      <td>https://news.naver.com/main/read.naver?mode=LS...</td>\n",
       "      <td>홍남기 부총리 겸 기획재정부 장관이 5일 국회에서 열린 기획재정위원회의 기획재정부 ...</td>\n",
       "    </tr>\n",
       "    <tr>\n",
       "      <th>1</th>\n",
       "      <td>\"文경제 학사경고 수준\"…부총리에 몰아친 '부동산 포화'(종합)</td>\n",
       "      <td>뉴스1</td>\n",
       "      <td>https://news.naver.com/main/read.naver?mode=LS...</td>\n",
       "      <td>5일 국회 기획재정위원회 국정감사에 출석한 홍남기 경제부총리. 2021.10.5/뉴...</td>\n",
       "    </tr>\n",
       "    <tr>\n",
       "      <th>2</th>\n",
       "      <td>이재명, 2004년 음주운전 당시 혈중알코올 0.158%…면허취소 수준</td>\n",
       "      <td>KBS</td>\n",
       "      <td>https://news.naver.com/main/read.naver?mode=LS...</td>\n",
       "      <td>더불어민주당 이재명 대선 경선 후보가 2004년에 음주운전으로 적발될 당시 혈중알코...</td>\n",
       "    </tr>\n",
       "    <tr>\n",
       "      <th>3</th>\n",
       "      <td>\"화천대유했나\" vs \"윤석열 장모는?\"…기재위에 '대장동 유탄'</td>\n",
       "      <td>머니투데이</td>\n",
       "      <td>https://news.naver.com/main/read.naver?mode=LS...</td>\n",
       "      <td>홍남기 경제부총리 겸 기획재정부 장관이 5일 오전 서울 여의도 국회에서 기획재정위원...</td>\n",
       "    </tr>\n",
       "    <tr>\n",
       "      <th>4</th>\n",
       "      <td>박범계 \"고발사주, 중대 사건…공수처 이첩 아닌 이송이라 썼다\"(종합)</td>\n",
       "      <td>뉴스1</td>\n",
       "      <td>https://news.naver.com/main/read.naver?mode=LS...</td>\n",
       "      <td>박범계 법무부 장관이 5일 서울 여의도 국회에서 열린 법제사법위원회의 법무부·대한법...</td>\n",
       "    </tr>\n",
       "  </tbody>\n",
       "</table>\n",
       "</div>"
      ],
      "text/plain": [
       "                                     title author  \\\n",
       "0                     홍남기 “11월 가스요금 동결합니다”   서울경제   \n",
       "1      \"文경제 학사경고 수준\"…부총리에 몰아친 '부동산 포화'(종합)    뉴스1   \n",
       "2  이재명, 2004년 음주운전 당시 혈중알코올 0.158%…면허취소 수준    KBS   \n",
       "3     \"화천대유했나\" vs \"윤석열 장모는?\"…기재위에 '대장동 유탄'  머니투데이   \n",
       "4  박범계 \"고발사주, 중대 사건…공수처 이첩 아닌 이송이라 썼다\"(종합)    뉴스1   \n",
       "\n",
       "                                                 url  \\\n",
       "0  https://news.naver.com/main/read.naver?mode=LS...   \n",
       "1  https://news.naver.com/main/read.naver?mode=LS...   \n",
       "2  https://news.naver.com/main/read.naver?mode=LS...   \n",
       "3  https://news.naver.com/main/read.naver?mode=LS...   \n",
       "4  https://news.naver.com/main/read.naver?mode=LS...   \n",
       "\n",
       "                                                text  \n",
       "0  홍남기 부총리 겸 기획재정부 장관이 5일 국회에서 열린 기획재정위원회의 기획재정부 ...  \n",
       "1  5일 국회 기획재정위원회 국정감사에 출석한 홍남기 경제부총리. 2021.10.5/뉴...  \n",
       "2  더불어민주당 이재명 대선 경선 후보가 2004년에 음주운전으로 적발될 당시 혈중알코...  \n",
       "3  홍남기 경제부총리 겸 기획재정부 장관이 5일 오전 서울 여의도 국회에서 기획재정위원...  \n",
       "4  박범계 법무부 장관이 5일 서울 여의도 국회에서 열린 법제사법위원회의 법무부·대한법...  "
      ]
     },
     "execution_count": 50,
     "metadata": {},
     "output_type": "execute_result"
    }
   ],
   "source": [
    "article_crawler = ArticleCrawler(meta, use_ray=True)\n",
    "data = article_crawler.crawl()\n",
    "data.head()"
   ]
  },
  {
   "cell_type": "markdown",
   "id": "479e9877",
   "metadata": {},
   "source": [
    "## Test - 2\n",
    "* Dynamic Crawling\n",
    "* Naver Shopping Review"
   ]
  },
  {
   "cell_type": "code",
   "execution_count": 52,
   "id": "3c32a6ae",
   "metadata": {},
   "outputs": [],
   "source": [
    "LARGE_CAT = ['패션의류', '패션잡화', '화장품/미용', '디지털/가전', '가구/인테리어', '출산/육아', '식품', '스포츠/레저', '생활/건강',\n",
    "                   '여가/생활편의', '면세점', '도서']"
   ]
  },
  {
   "cell_type": "code",
   "execution_count": 53,
   "id": "95e7397e",
   "metadata": {},
   "outputs": [],
   "source": [
    "class MediumCrawler(DynamicCrawler):\n",
    "    \n",
    "    \n",
    "    def get_large_cat_id(self, cat):\n",
    "        return str(50000000 + LARGE_CAT.index(cat))\n",
    "    \n",
    "    def get_large_cat_url(cat):\n",
    "        cat_id = get_large_cat_id(cat)\n",
    "        return f'https://search.shopping.naver.com/search/category?catId={cat_id}'\n",
    "    \n",
    "    def browse(self):\n",
    "        return [self.get_large_cat_url(cat) for cat in LARGE_CAT]\n",
    "\n",
    "    def parse(self, html):\n",
    "        "
   ]
  },
  {
   "cell_type": "code",
   "execution_count": 54,
   "id": "5e50838f",
   "metadata": {},
   "outputs": [],
   "source": [
    "medium_crawler = MediumCrawler(use_ray=False)"
   ]
  },
  {
   "cell_type": "code",
   "execution_count": 55,
   "id": "79170d22",
   "metadata": {},
   "outputs": [
    {
     "data": {
      "text/plain": [
       "'50000000'"
      ]
     },
     "execution_count": 55,
     "metadata": {},
     "output_type": "execute_result"
    }
   ],
   "source": [
    "medium_crawler.get_large_cat_id('패션의류')"
   ]
  },
  {
   "cell_type": "code",
   "execution_count": null,
   "id": "63f62b7f",
   "metadata": {},
   "outputs": [],
   "source": [
    "url = get_large_category_url('패션의류')"
   ]
  },
  {
   "cell_type": "code",
   "execution_count": null,
   "id": "0baf4e55",
   "metadata": {},
   "outputs": [],
   "source": [
    "driver = load_driver()"
   ]
  },
  {
   "cell_type": "code",
   "execution_count": null,
   "id": "b72beeef",
   "metadata": {},
   "outputs": [],
   "source": [
    "driver.get(url)"
   ]
  },
  {
   "cell_type": "code",
   "execution_count": null,
   "id": "4740d6d0",
   "metadata": {},
   "outputs": [],
   "source": [
    "html = driver.page_source\n",
    "soup = BeautifulSoup(html, 'html.parser')"
   ]
  },
  {
   "cell_type": "code",
   "execution_count": null,
   "id": "8565fa46",
   "metadata": {},
   "outputs": [],
   "source": [
    "medium_categories = driver.find_elements_by_xpath('//*[@id=\"__next\"]/div/div[2]/div/div[2]/div[1]/div[1]/div[2]/div/ul/li/a')"
   ]
  },
  {
   "cell_type": "code",
   "execution_count": null,
   "id": "189b50e0",
   "metadata": {},
   "outputs": [],
   "source": [
    "[i.text for i in medium_categories]"
   ]
  },
  {
   "cell_type": "code",
   "execution_count": null,
   "id": "de36be5f",
   "metadata": {},
   "outputs": [],
   "source": [
    "medium_categories[0].click()"
   ]
  },
  {
   "cell_type": "code",
   "execution_count": null,
   "id": "d7dfb6a1",
   "metadata": {},
   "outputs": [],
   "source": [
    "medium_category_id = driver.current_url.split('catId=')[1][:8]\n",
    "medium_category_id"
   ]
  },
  {
   "cell_type": "code",
   "execution_count": null,
   "id": "f9c96d7d",
   "metadata": {},
   "outputs": [],
   "source": [
    "medium_category_url = f'https://search.shopping.naver.com/api/search/category?sort=rel&pagingIndex=1&pagingSize=100&viewType=list&productSet=total&catId={medium_category_id}'"
   ]
  },
  {
   "cell_type": "code",
   "execution_count": null,
   "id": "203a451c",
   "metadata": {},
   "outputs": [],
   "source": [
    "res = requests.get(medium_category_url)\n",
    "res = res.json()"
   ]
  },
  {
   "cell_type": "code",
   "execution_count": null,
   "id": "1ff5f174",
   "metadata": {},
   "outputs": [],
   "source": [
    "res.keys()"
   ]
  },
  {
   "cell_type": "code",
   "execution_count": null,
   "id": "95ebec84",
   "metadata": {},
   "outputs": [],
   "source": [
    "products = res['shoppingResult']['products']"
   ]
  },
  {
   "cell_type": "code",
   "execution_count": null,
   "id": "09b3a07d",
   "metadata": {
    "scrolled": false
   },
   "outputs": [],
   "source": [
    "products[-1]"
   ]
  },
  {
   "cell_type": "code",
   "execution_count": null,
   "id": "d319f114",
   "metadata": {
    "scrolled": false
   },
   "outputs": [],
   "source": [
    "products[0]"
   ]
  },
  {
   "cell_type": "code",
   "execution_count": null,
   "id": "765e5106",
   "metadata": {},
   "outputs": [],
   "source": [
    "product_id = products[0]['id']\n",
    "page = 1"
   ]
  },
  {
   "cell_type": "code",
   "execution_count": null,
   "id": "328e11a5",
   "metadata": {},
   "outputs": [],
   "source": [
    "review_url = f'https://search.shopping.naver.com/api/review?nvMid={product_id}&reviewType=ALL&sort=QUALITY&isNeedAggregation=N&isApplyFilter=N&pageSize=30&page={page}'\n",
    "res = requests.get(review_url)\n",
    "res = res.json()"
   ]
  },
  {
   "cell_type": "code",
   "execution_count": null,
   "id": "dc9a8252",
   "metadata": {},
   "outputs": [],
   "source": [
    "res"
   ]
  },
  {
   "cell_type": "code",
   "execution_count": null,
   "id": "63c72cae",
   "metadata": {},
   "outputs": [],
   "source": [
    "driver.current_url"
   ]
  },
  {
   "cell_type": "code",
   "execution_count": null,
   "id": "6a290dc4",
   "metadata": {},
   "outputs": [],
   "source": [
    "review_url"
   ]
  },
  {
   "cell_type": "code",
   "execution_count": null,
   "id": "5201a708",
   "metadata": {},
   "outputs": [],
   "source": [
    "review_url"
   ]
  },
  {
   "cell_type": "code",
   "execution_count": null,
   "id": "f22b4b0e",
   "metadata": {},
   "outputs": [],
   "source": [
    "res"
   ]
  },
  {
   "cell_type": "code",
   "execution_count": null,
   "id": "b6ead7b2",
   "metadata": {},
   "outputs": [],
   "source": [
    "item_id = '28817170118'\n",
    "page = 1\n",
    "\n",
    "review_url = f'https://search.shopping.naver.com/api/review?nvMid={item_id}&reviewType=ALL&sort=QUALITY&isNeedAggregation=N&isApplyFilter=N&pageSize=30&page={page}'\n",
    "res = requests.get(review_url)\n"
   ]
  },
  {
   "cell_type": "code",
   "execution_count": null,
   "id": "f7211d82",
   "metadata": {},
   "outputs": [],
   "source": [
    "review_url"
   ]
  },
  {
   "cell_type": "code",
   "execution_count": null,
   "id": "da7a7b5c",
   "metadata": {},
   "outputs": [],
   "source": [
    "res = res.json()"
   ]
  },
  {
   "cell_type": "code",
   "execution_count": null,
   "id": "19999b85",
   "metadata": {},
   "outputs": [],
   "source": [
    "res"
   ]
  },
  {
   "cell_type": "code",
   "execution_count": null,
   "id": "b5d639d8",
   "metadata": {},
   "outputs": [],
   "source": [
    "len(res['reviews'])"
   ]
  },
  {
   "cell_type": "code",
   "execution_count": null,
   "id": "34cf76f4",
   "metadata": {},
   "outputs": [],
   "source": [
    "res"
   ]
  },
  {
   "cell_type": "code",
   "execution_count": null,
   "id": "1910c8ed",
   "metadata": {},
   "outputs": [],
   "source": [
    "res = requests.get('https://search.shopping.naver.com/search/category?catId=50000008')"
   ]
  },
  {
   "cell_type": "code",
   "execution_count": null,
   "id": "916eae5c",
   "metadata": {},
   "outputs": [],
   "source": [
    "soup = BeautifulSoup(res.text, 'html.parser')"
   ]
  },
  {
   "cell_type": "code",
   "execution_count": null,
   "id": "0652eac9",
   "metadata": {},
   "outputs": [],
   "source": [
    "import re"
   ]
  },
  {
   "cell_type": "code",
   "execution_count": null,
   "id": "0bca2544",
   "metadata": {},
   "outputs": [],
   "source": [
    "'https://search.shopping.naver.com/api/search/category?sort=rel&pagingIndex=1&pagingSize=40&viewType=list&productSet=total&catId=50000008&deliveryFee=&deliveryTypeValue=&iq=&eq=&xq='"
   ]
  },
  {
   "cell_type": "code",
   "execution_count": null,
   "id": "ceea08ab",
   "metadata": {},
   "outputs": [],
   "source": [
    "exp = re.compile('filter_finder[\\W]+')"
   ]
  },
  {
   "cell_type": "code",
   "execution_count": null,
   "id": "e82f1b45",
   "metadata": {},
   "outputs": [],
   "source": [
    "soup.find_all('span')"
   ]
  },
  {
   "cell_type": "code",
   "execution_count": null,
   "id": "335b9916",
   "metadata": {},
   "outputs": [],
   "source": [
    "soup"
   ]
  },
  {
   "cell_type": "code",
   "execution_count": null,
   "id": "50f5b9ef",
   "metadata": {},
   "outputs": [],
   "source": [
    "soup.select(exp)"
   ]
  },
  {
   "cell_type": "code",
   "execution_count": null,
   "id": "5a4e7aaf",
   "metadata": {},
   "outputs": [],
   "source": [
    "res['reviews']"
   ]
  },
  {
   "cell_type": "code",
   "execution_count": null,
   "id": "c1b2a0b0",
   "metadata": {},
   "outputs": [],
   "source": [
    "res['totalCount'] // 30"
   ]
  },
  {
   "cell_type": "code",
   "execution_count": null,
   "id": "c0f34ff2",
   "metadata": {},
   "outputs": [],
   "source": [
    "[[{'sub': a.text.strip(), 'href': a.get('href')} for a in subcategory.select('a')] for subcategory in subcategories]"
   ]
  },
  {
   "cell_type": "code",
   "execution_count": null,
   "id": "0ca16717",
   "metadata": {},
   "outputs": [],
   "source": [
    "subcategories[0]"
   ]
  },
  {
   "cell_type": "code",
   "execution_count": null,
   "id": "90ae506e",
   "metadata": {},
   "outputs": [],
   "source": []
  },
  {
   "cell_type": "code",
   "execution_count": null,
   "id": "7483d661",
   "metadata": {},
   "outputs": [],
   "source": [
    "categories.chi"
   ]
  },
  {
   "cell_type": "code",
   "execution_count": null,
   "id": "62b3dc71",
   "metadata": {},
   "outputs": [],
   "source": [
    "categories.find_elements_by_css_selector('li')"
   ]
  },
  {
   "cell_type": "code",
   "execution_count": null,
   "id": "3f19d166",
   "metadata": {},
   "outputs": [],
   "source": []
  },
  {
   "cell_type": "code",
   "execution_count": null,
   "id": "dd1e2451",
   "metadata": {},
   "outputs": [],
   "source": [
    "type(driver) == webdriver.Chrome"
   ]
  },
  {
   "cell_type": "code",
   "execution_count": null,
   "id": "1a3849dd",
   "metadata": {},
   "outputs": [],
   "source": [
    "driver.get('https://www.naver.com')"
   ]
  },
  {
   "cell_type": "code",
   "execution_count": null,
   "id": "20c0d896",
   "metadata": {},
   "outputs": [],
   "source": [
    "driver.page_source"
   ]
  },
  {
   "cell_type": "code",
   "execution_count": null,
   "id": "0240c54f",
   "metadata": {},
   "outputs": [],
   "source": [
    "if driver:\n",
    "    print('hi')"
   ]
  },
  {
   "cell_type": "code",
   "execution_count": null,
   "id": "79f76110",
   "metadata": {},
   "outputs": [],
   "source": [
    "class DynamicEngine(object):\n",
    "\n",
    "    def request(self, url: List[str], driver):\n",
    "        driver.get(url)\n",
    "        return driver.page_source\n",
    "    \n",
    "    \n",
    "    def run(self, urls, parse_fn, use_tqdm):\n",
    "        return"
   ]
  },
  {
   "cell_type": "code",
   "execution_count": null,
   "id": "9b5eac30",
   "metadata": {},
   "outputs": [],
   "source": [
    "engine = DynamicEngine()"
   ]
  },
  {
   "cell_type": "code",
   "execution_count": null,
   "id": "dd5b51bb",
   "metadata": {},
   "outputs": [],
   "source": [
    "driver.page_source"
   ]
  },
  {
   "cell_type": "code",
   "execution_count": null,
   "id": "b422c9ce",
   "metadata": {},
   "outputs": [],
   "source": [
    "engine.request('https://www.daum.net', driver)"
   ]
  },
  {
   "cell_type": "code",
   "execution_count": null,
   "id": "264df455",
   "metadata": {},
   "outputs": [],
   "source": [
    "driver.current_url"
   ]
  },
  {
   "cell_type": "code",
   "execution_count": null,
   "id": "7b522712",
   "metadata": {},
   "outputs": [],
   "source": [
    "from webshooter import url_to_soup"
   ]
  },
  {
   "cell_type": "code",
   "execution_count": null,
   "id": "b01a8b53",
   "metadata": {},
   "outputs": [],
   "source": [
    "webdriver.Chrome"
   ]
  }
 ],
 "metadata": {
  "kernelspec": {
   "display_name": "Python 3 (ipykernel)",
   "language": "python",
   "name": "python3"
  },
  "language_info": {
   "codemirror_mode": {
    "name": "ipython",
    "version": 3
   },
   "file_extension": ".py",
   "mimetype": "text/x-python",
   "name": "python",
   "nbconvert_exporter": "python",
   "pygments_lexer": "ipython3",
   "version": "3.7.12"
  }
 },
 "nbformat": 4,
 "nbformat_minor": 5
}
