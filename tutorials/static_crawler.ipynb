{
 "cells": [
  {
   "cell_type": "markdown",
   "source": [
    "# Static Crawler"
   ],
   "metadata": {}
  },
  {
   "cell_type": "markdown",
   "source": [
    "## 1. Setting"
   ],
   "metadata": {}
  },
  {
   "cell_type": "code",
   "execution_count": 1,
   "source": [
    "import pandas as pd\n",
    "\n",
    "from bs4 import BeautifulSoup\n",
    "from newspaper import Article\n",
    "\n",
    "from symcrawl import Crawler, url_to_soup"
   ],
   "outputs": [],
   "metadata": {}
  },
  {
   "cell_type": "code",
   "execution_count": 2,
   "source": [
    "CATEGORIES = ['정치', '경제', '사회', '세계', '생활/문화', 'IT/과학']\n",
    "CATEGORY_TO_ID = {\n",
    "    '정치': '100',\n",
    "    '경제': '101',\n",
    "    '사회': '102',\n",
    "    '생활/문화': '103',\n",
    "    '세계': '104',\n",
    "    'IT/과학': '105',\n",
    "}"
   ],
   "outputs": [],
   "metadata": {}
  },
  {
   "cell_type": "code",
   "execution_count": 3,
   "source": [
    "date = '20211005'\n",
    "max_page = 1"
   ],
   "outputs": [],
   "metadata": {}
  },
  {
   "cell_type": "markdown",
   "source": [
    "## 2. List Crawling"
   ],
   "metadata": {}
  },
  {
   "cell_type": "code",
   "execution_count": 4,
   "source": [
    "class ListCrawler(Crawler):\n",
    "    def __init__(self, date, max_page, engine_type='static', use_ray=True, use_tqdm=True):\n",
    "        super().__init__(engine_type, use_ray, use_tqdm)\n",
    "        self.date = date\n",
    "        self.max_page = max_page\n",
    "\n",
    "    def get_page_url(self, category, page):\n",
    "        category_id = CATEGORY_TO_ID[category]\n",
    "        url = f'https://news.naver.com/main/list.naver?mode=LSD&mid=sec&sid1={category_id}&listType=title&date={self.date}&page={page}'\n",
    "        return url\n",
    "\n",
    "    def find_max_page(self, category):\n",
    "        page_url = self.get_page_url(category, 10000)\n",
    "        soup = url_to_soup(page_url)\n",
    "        max_page = soup.select('div.paging strong')[0].text\n",
    "        return min(self.max_page, int(max_page))\n",
    "\n",
    "    def browse(self):\n",
    "        urls = []\n",
    "        for category in CATEGORIES:\n",
    "            max_page = self.find_max_page(category)\n",
    "            urls += [self.get_page_url(category, p) for p in range(1, max_page+1)]\n",
    "        return urls\n",
    "\n",
    "    def parse(self, html):\n",
    "        soup = BeautifulSoup(html, 'html.parser')\n",
    "        articles = soup.select('div.list_body ul.type02 a')\n",
    "        titles = [i.text for i in articles]\n",
    "        urls = [i.get('href') for i in articles]\n",
    "        authors = [i.text for i in soup.select('div.list_body ul.type02 span.writing')]\n",
    "        return [{'title': t, 'author': a, 'url':u} for t, a, u in zip(titles, authors, urls)]"
   ],
   "outputs": [],
   "metadata": {}
  },
  {
   "cell_type": "code",
   "execution_count": 5,
   "source": [
    "list_crawler = ListCrawler(date, max_page, use_ray=False)"
   ],
   "outputs": [],
   "metadata": {}
  },
  {
   "cell_type": "code",
   "execution_count": 7,
   "source": [
    "meta = list_crawler.crawl()\n",
    "meta.head()"
   ],
   "outputs": [
    {
     "output_type": "display_data",
     "data": {
      "application/vnd.jupyter.widget-view+json": {
       "version_major": 2,
       "version_minor": 0,
       "model_id": "e3c96f3347424691bad56def9874f79e"
      },
      "text/plain": [
       "request:   0%|          | 0/6 [00:00<?, ?it/s]"
      ]
     },
     "metadata": {}
    },
    {
     "output_type": "display_data",
     "data": {
      "application/vnd.jupyter.widget-view+json": {
       "version_major": 2,
       "version_minor": 0,
       "model_id": "008bc33454b44f8dac456bed017f166b"
      },
      "text/plain": [
       "parse:   0%|          | 0/6 [00:00<?, ?it/s]"
      ]
     },
     "metadata": {}
    },
    {
     "output_type": "execute_result",
     "data": {
      "text/html": [
       "<div>\n",
       "<style scoped>\n",
       "    .dataframe tbody tr th:only-of-type {\n",
       "        vertical-align: middle;\n",
       "    }\n",
       "\n",
       "    .dataframe tbody tr th {\n",
       "        vertical-align: top;\n",
       "    }\n",
       "\n",
       "    .dataframe thead th {\n",
       "        text-align: right;\n",
       "    }\n",
       "</style>\n",
       "<table border=\"1\" class=\"dataframe\">\n",
       "  <thead>\n",
       "    <tr style=\"text-align: right;\">\n",
       "      <th></th>\n",
       "      <th>title</th>\n",
       "      <th>author</th>\n",
       "      <th>url</th>\n",
       "    </tr>\n",
       "  </thead>\n",
       "  <tbody>\n",
       "    <tr>\n",
       "      <th>0</th>\n",
       "      <td>홍남기 “11월 가스요금 동결합니다”</td>\n",
       "      <td>서울경제</td>\n",
       "      <td>https://news.naver.com/main/read.naver?mode=LS...</td>\n",
       "    </tr>\n",
       "    <tr>\n",
       "      <th>1</th>\n",
       "      <td>\"文경제 학사경고 수준\"…부총리에 몰아친 '부동산 포화'(종합)</td>\n",
       "      <td>뉴스1</td>\n",
       "      <td>https://news.naver.com/main/read.naver?mode=LS...</td>\n",
       "    </tr>\n",
       "    <tr>\n",
       "      <th>2</th>\n",
       "      <td>이재명, 2004년 음주운전 당시 혈중알코올 0.158%…면허취소 수준</td>\n",
       "      <td>KBS</td>\n",
       "      <td>https://news.naver.com/main/read.naver?mode=LS...</td>\n",
       "    </tr>\n",
       "    <tr>\n",
       "      <th>3</th>\n",
       "      <td>\"화천대유했나\" vs \"윤석열 장모는?\"…기재위에 '대장동 유탄'</td>\n",
       "      <td>머니투데이</td>\n",
       "      <td>https://news.naver.com/main/read.naver?mode=LS...</td>\n",
       "    </tr>\n",
       "    <tr>\n",
       "      <th>4</th>\n",
       "      <td>박범계 \"고발사주, 중대 사건…공수처 이첩 아닌 이송이라 썼다\"(종합)</td>\n",
       "      <td>뉴스1</td>\n",
       "      <td>https://news.naver.com/main/read.naver?mode=LS...</td>\n",
       "    </tr>\n",
       "  </tbody>\n",
       "</table>\n",
       "</div>"
      ],
      "text/plain": [
       "                                     title author  \\\n",
       "0                     홍남기 “11월 가스요금 동결합니다”   서울경제   \n",
       "1      \"文경제 학사경고 수준\"…부총리에 몰아친 '부동산 포화'(종합)    뉴스1   \n",
       "2  이재명, 2004년 음주운전 당시 혈중알코올 0.158%…면허취소 수준    KBS   \n",
       "3     \"화천대유했나\" vs \"윤석열 장모는?\"…기재위에 '대장동 유탄'  머니투데이   \n",
       "4  박범계 \"고발사주, 중대 사건…공수처 이첩 아닌 이송이라 썼다\"(종합)    뉴스1   \n",
       "\n",
       "                                                 url  \n",
       "0  https://news.naver.com/main/read.naver?mode=LS...  \n",
       "1  https://news.naver.com/main/read.naver?mode=LS...  \n",
       "2  https://news.naver.com/main/read.naver?mode=LS...  \n",
       "3  https://news.naver.com/main/read.naver?mode=LS...  \n",
       "4  https://news.naver.com/main/read.naver?mode=LS...  "
      ]
     },
     "metadata": {},
     "execution_count": 7
    }
   ],
   "metadata": {}
  },
  {
   "cell_type": "markdown",
   "source": [
    "## 3. Article Crawling"
   ],
   "metadata": {}
  },
  {
   "cell_type": "code",
   "execution_count": 12,
   "source": [
    "class ArticleCrawler(Crawler):\n",
    "    def __init__(self, meta, engine_type='static', use_ray=False, use_tqdm=True):\n",
    "        super().__init__(engine_type, use_ray, use_tqdm)\n",
    "        self.meta = meta\n",
    "    \n",
    "    def browse(self):\n",
    "        return self.meta['url'].to_list()\n",
    "\n",
    "    def parse(self, html):\n",
    "        article = Article('', language='ko', fetch_images=False)\n",
    "        article.download(html)\n",
    "        article.parse()\n",
    "        text = article.text\n",
    "        return {'text': text}\n",
    "\n",
    "    def postprocess(self, data):\n",
    "        data = pd.concat([meta, data], axis=1)\n",
    "        return data"
   ],
   "outputs": [],
   "metadata": {}
  },
  {
   "cell_type": "code",
   "execution_count": 15,
   "source": [
    "article_crawler = ArticleCrawler(meta)"
   ],
   "outputs": [],
   "metadata": {}
  },
  {
   "cell_type": "code",
   "execution_count": 16,
   "source": [
    "data = article_crawler.crawl()\n",
    "data.head()"
   ],
   "outputs": [
    {
     "output_type": "display_data",
     "data": {
      "application/vnd.jupyter.widget-view+json": {
       "version_major": 2,
       "version_minor": 0,
       "model_id": "0364981a41c0419cb8adc17ab22f8861"
      },
      "text/plain": [
       "request:   0%|          | 0/300 [00:00<?, ?it/s]"
      ]
     },
     "metadata": {}
    },
    {
     "output_type": "display_data",
     "data": {
      "application/vnd.jupyter.widget-view+json": {
       "version_major": 2,
       "version_minor": 0,
       "model_id": "4ec2ffb7cb324376bc89853cfaab9dc1"
      },
      "text/plain": [
       "parse:   0%|          | 0/300 [00:00<?, ?it/s]"
      ]
     },
     "metadata": {}
    },
    {
     "output_type": "execute_result",
     "data": {
      "text/html": [
       "<div>\n",
       "<style scoped>\n",
       "    .dataframe tbody tr th:only-of-type {\n",
       "        vertical-align: middle;\n",
       "    }\n",
       "\n",
       "    .dataframe tbody tr th {\n",
       "        vertical-align: top;\n",
       "    }\n",
       "\n",
       "    .dataframe thead th {\n",
       "        text-align: right;\n",
       "    }\n",
       "</style>\n",
       "<table border=\"1\" class=\"dataframe\">\n",
       "  <thead>\n",
       "    <tr style=\"text-align: right;\">\n",
       "      <th></th>\n",
       "      <th>title</th>\n",
       "      <th>author</th>\n",
       "      <th>url</th>\n",
       "      <th>text</th>\n",
       "    </tr>\n",
       "  </thead>\n",
       "  <tbody>\n",
       "    <tr>\n",
       "      <th>0</th>\n",
       "      <td>홍남기 “11월 가스요금 동결합니다”</td>\n",
       "      <td>서울경제</td>\n",
       "      <td>https://news.naver.com/main/read.naver?mode=LS...</td>\n",
       "      <td>홍남기 부총리 겸 기획재정부 장관이 5일 국회에서 열린 기획재정위원회의 기획재정부 ...</td>\n",
       "    </tr>\n",
       "    <tr>\n",
       "      <th>1</th>\n",
       "      <td>\"文경제 학사경고 수준\"…부총리에 몰아친 '부동산 포화'(종합)</td>\n",
       "      <td>뉴스1</td>\n",
       "      <td>https://news.naver.com/main/read.naver?mode=LS...</td>\n",
       "      <td>5일 국회 기획재정위원회 국정감사에 출석한 홍남기 경제부총리. 2021.10.5/뉴...</td>\n",
       "    </tr>\n",
       "    <tr>\n",
       "      <th>2</th>\n",
       "      <td>이재명, 2004년 음주운전 당시 혈중알코올 0.158%…면허취소 수준</td>\n",
       "      <td>KBS</td>\n",
       "      <td>https://news.naver.com/main/read.naver?mode=LS...</td>\n",
       "      <td>더불어민주당 이재명 대선 경선 후보가 2004년에 음주운전으로 적발될 당시 혈중알코...</td>\n",
       "    </tr>\n",
       "    <tr>\n",
       "      <th>3</th>\n",
       "      <td>\"화천대유했나\" vs \"윤석열 장모는?\"…기재위에 '대장동 유탄'</td>\n",
       "      <td>머니투데이</td>\n",
       "      <td>https://news.naver.com/main/read.naver?mode=LS...</td>\n",
       "      <td>홍남기 경제부총리 겸 기획재정부 장관이 5일 오전 서울 여의도 국회에서 기획재정위원...</td>\n",
       "    </tr>\n",
       "    <tr>\n",
       "      <th>4</th>\n",
       "      <td>박범계 \"고발사주, 중대 사건…공수처 이첩 아닌 이송이라 썼다\"(종합)</td>\n",
       "      <td>뉴스1</td>\n",
       "      <td>https://news.naver.com/main/read.naver?mode=LS...</td>\n",
       "      <td>박범계 법무부 장관이 5일 서울 여의도 국회에서 열린 법제사법위원회의 법무부·대한법...</td>\n",
       "    </tr>\n",
       "  </tbody>\n",
       "</table>\n",
       "</div>"
      ],
      "text/plain": [
       "                                     title author  \\\n",
       "0                     홍남기 “11월 가스요금 동결합니다”   서울경제   \n",
       "1      \"文경제 학사경고 수준\"…부총리에 몰아친 '부동산 포화'(종합)    뉴스1   \n",
       "2  이재명, 2004년 음주운전 당시 혈중알코올 0.158%…면허취소 수준    KBS   \n",
       "3     \"화천대유했나\" vs \"윤석열 장모는?\"…기재위에 '대장동 유탄'  머니투데이   \n",
       "4  박범계 \"고발사주, 중대 사건…공수처 이첩 아닌 이송이라 썼다\"(종합)    뉴스1   \n",
       "\n",
       "                                                 url  \\\n",
       "0  https://news.naver.com/main/read.naver?mode=LS...   \n",
       "1  https://news.naver.com/main/read.naver?mode=LS...   \n",
       "2  https://news.naver.com/main/read.naver?mode=LS...   \n",
       "3  https://news.naver.com/main/read.naver?mode=LS...   \n",
       "4  https://news.naver.com/main/read.naver?mode=LS...   \n",
       "\n",
       "                                                text  \n",
       "0  홍남기 부총리 겸 기획재정부 장관이 5일 국회에서 열린 기획재정위원회의 기획재정부 ...  \n",
       "1  5일 국회 기획재정위원회 국정감사에 출석한 홍남기 경제부총리. 2021.10.5/뉴...  \n",
       "2  더불어민주당 이재명 대선 경선 후보가 2004년에 음주운전으로 적발될 당시 혈중알코...  \n",
       "3  홍남기 경제부총리 겸 기획재정부 장관이 5일 오전 서울 여의도 국회에서 기획재정위원...  \n",
       "4  박범계 법무부 장관이 5일 서울 여의도 국회에서 열린 법제사법위원회의 법무부·대한법...  "
      ]
     },
     "metadata": {},
     "execution_count": 16
    }
   ],
   "metadata": {}
  },
  {
   "cell_type": "code",
   "execution_count": null,
   "source": [],
   "outputs": [],
   "metadata": {}
  }
 ],
 "metadata": {
  "orig_nbformat": 4,
  "kernelspec": {
   "name": "python3",
   "display_name": "Python 3 (ipykernel)",
   "language": "python"
  },
  "language_info": {
   "name": "python",
   "version": "3.7.12",
   "mimetype": "text/x-python",
   "codemirror_mode": {
    "name": "ipython",
    "version": 3
   },
   "pygments_lexer": "ipython3",
   "nbconvert_exporter": "python",
   "file_extension": ".py"
  }
 },
 "nbformat": 4,
 "nbformat_minor": 2
}